{
  "nbformat": 4,
  "nbformat_minor": 0,
  "metadata": {
    "colab": {
      "provenance": [],
      "toc_visible": true,
      "authorship_tag": "ABX9TyP6NJY7Ssa7GjdN89D4W+us",
      "include_colab_link": true
    },
    "kernelspec": {
      "name": "python3",
      "display_name": "Python 3"
    },
    "language_info": {
      "name": "python"
    }
  },
  "cells": [
    {
      "cell_type": "markdown",
      "metadata": {
        "id": "view-in-github",
        "colab_type": "text"
      },
      "source": [
        "<a href=\"https://colab.research.google.com/github/hasnatosman/python_revise/blob/main/python_doc.ipynb\" target=\"_parent\"><img src=\"https://colab.research.google.com/assets/colab-badge.svg\" alt=\"Open In Colab\"/></a>"
      ]
    },
    {
      "cell_type": "markdown",
      "source": [
        "# 1. Whetting Your Appetite"
      ],
      "metadata": {
        "id": "hEqGz2cKre0i"
      }
    },
    {
      "cell_type": "markdown",
      "source": [
        "Python is simple to use, but it is a real programming language, offering much more structure and support for large programs than shell scripts or batch files can offer. On the other hand, Python also offers much more error checking than C, and, being a very-high-level language, it has high-level data types built in, such as flexible arrays and dictionaries."
      ],
      "metadata": {
        "id": "MDtM9z-grk8k"
      }
    },
    {
      "cell_type": "markdown",
      "source": [
        "# More Control Flow tools"
      ],
      "metadata": {
        "id": "8lS8TdQ-C8jA"
      }
    },
    {
      "cell_type": "markdown",
      "source": [
        "4.1. if Statements"
      ],
      "metadata": {
        "id": "kI63QxS1czTO"
      }
    },
    {
      "cell_type": "code",
      "source": [
        "x = int(input(\"Please enter an enteger: \"))\n",
        "\n",
        "if x < 0:\n",
        "  x = 0\n",
        "  print(\" Negetive cnaged to Zero!\")\n",
        "elif x == 0:\n",
        "  print('Zero')\n",
        "elif x == 1:\n",
        "  print('Single')\n",
        "else:\n",
        "  print('More')"
      ],
      "metadata": {
        "colab": {
          "base_uri": "https://localhost:8080/"
        },
        "id": "gVZqZ6O26yqJ",
        "outputId": "dcfad535-b4a5-4cde-df2c-bab685d294eb"
      },
      "execution_count": null,
      "outputs": [
        {
          "output_type": "stream",
          "name": "stdout",
          "text": [
            "Please enter an enteger: 44\n",
            "More\n"
          ]
        }
      ]
    },
    {
      "cell_type": "markdown",
      "source": [
        "4.2. for Statements"
      ],
      "metadata": {
        "id": "2w3xKhdxeBfQ"
      }
    },
    {
      "cell_type": "code",
      "source": [
        "words = ['cat', 'window', 'microsoft']\n",
        "for word in words:\n",
        "  print(word , len(word))"
      ],
      "metadata": {
        "id": "1Y0fLdaa6yoF",
        "colab": {
          "base_uri": "https://localhost:8080/"
        },
        "outputId": "4515f308-6212-40c8-e2c8-8f9e96fe274e"
      },
      "execution_count": null,
      "outputs": [
        {
          "output_type": "stream",
          "name": "stdout",
          "text": [
            "cat 3\n",
            "window 6\n",
            "microsoft 9\n"
          ]
        }
      ]
    },
    {
      "cell_type": "code",
      "source": [
        "users = {\n",
        "    'hasnat': 'active',\n",
        "    'khaled': 'inactive',\n",
        "    'oalid' : 'active',\n",
        "    'arif' : 'active',\n",
        "    'kamrul' : 'inactive'\n",
        "}\n",
        "\n",
        "# strategy\n",
        "\n",
        "for user, status in users.copy().items():\n",
        "  if status == \"inactive\":\n",
        "    del users[user]\n",
        "\n",
        "#print(users)\n",
        "\n",
        "active_users = {}\n",
        "\n",
        "for user, status in users.items():\n",
        "  if status == 'active':\n",
        "    active_users[user] = status\n",
        "\n",
        "print(active_users)"
      ],
      "metadata": {
        "id": "4ZFiXZE_6yha",
        "colab": {
          "base_uri": "https://localhost:8080/"
        },
        "outputId": "4e66c2e1-8801-4682-f27a-c2898cd6d6f5"
      },
      "execution_count": null,
      "outputs": [
        {
          "output_type": "stream",
          "name": "stdout",
          "text": [
            "{'hasnat': 'active', 'oalid': 'active', 'arif': 'active'}\n"
          ]
        }
      ]
    },
    {
      "cell_type": "markdown",
      "source": [
        "4.3. The `range()` Function\n"
      ],
      "metadata": {
        "id": "TmatP51y4oQR"
      }
    },
    {
      "cell_type": "code",
      "source": [
        "for i in range(5):\n",
        "  print(i)"
      ],
      "metadata": {
        "colab": {
          "base_uri": "https://localhost:8080/"
        },
        "id": "00ur7ffM4nvb",
        "outputId": "64877cdb-7824-4f3b-ad70-b0f9ac8bb7a6"
      },
      "execution_count": null,
      "outputs": [
        {
          "output_type": "stream",
          "name": "stdout",
          "text": [
            "0\n",
            "1\n",
            "2\n",
            "3\n",
            "4\n"
          ]
        }
      ]
    },
    {
      "cell_type": "code",
      "source": [
        "x = list(range(0,10))\n",
        "print(x)\n",
        "x = list(range(0,10,3))\n",
        "print(x)\n",
        "x = list(range(-10, -100, -30))\n",
        "print(x)"
      ],
      "metadata": {
        "colab": {
          "base_uri": "https://localhost:8080/"
        },
        "id": "WpHQqFl424xe",
        "outputId": "277e47a2-2e73-4125-a55f-cbb323fe9dc0"
      },
      "execution_count": null,
      "outputs": [
        {
          "output_type": "stream",
          "name": "stdout",
          "text": [
            "[0, 1, 2, 3, 4, 5, 6, 7, 8, 9]\n",
            "[0, 3, 6, 9]\n",
            "[-10, -40, -70]\n"
          ]
        }
      ]
    },
    {
      "cell_type": "markdown",
      "source": [
        "To iterate over the indices of a sequence, you can combine `range()`and `len()` as follows:"
      ],
      "metadata": {
        "id": "--UAFsr_5kUA"
      }
    },
    {
      "cell_type": "code",
      "source": [
        "a = ['marry', 'has', 'a', 'little', 'lamb']\n",
        "for i in range(len(a)):\n",
        "  print(i, a[i], len(a[i]))"
      ],
      "metadata": {
        "colab": {
          "base_uri": "https://localhost:8080/"
        },
        "id": "Mv-v2L9P5fMJ",
        "outputId": "bc494ca9-62d1-4f27-fac1-b3b80c3647ae"
      },
      "execution_count": null,
      "outputs": [
        {
          "output_type": "stream",
          "name": "stdout",
          "text": [
            "0 marry 5\n",
            "1 has 3\n",
            "2 a 1\n",
            "3 little 6\n",
            "4 lamb 4\n"
          ]
        }
      ]
    },
    {
      "cell_type": "code",
      "source": [
        "x = sum(range(1,10, 2))\n",
        "print(x)"
      ],
      "metadata": {
        "colab": {
          "base_uri": "https://localhost:8080/"
        },
        "id": "dho8LR7b6TsI",
        "outputId": "e9029405-b0ca-4d1a-b191-e7e2c6220843"
      },
      "execution_count": null,
      "outputs": [
        {
          "output_type": "stream",
          "name": "stdout",
          "text": [
            "25\n"
          ]
        }
      ]
    },
    {
      "cell_type": "markdown",
      "source": [
        "4.4. `break` and `continue` Statements"
      ],
      "metadata": {
        "id": "6HYASnIWHBDl"
      }
    },
    {
      "cell_type": "code",
      "source": [
        "for n in range(2,10):\n",
        "  for x in range(2, n):\n",
        "    if n % x == 0:\n",
        "      print(f\"{n} equals {x} * {n//x}\")\n",
        "      break"
      ],
      "metadata": {
        "colab": {
          "base_uri": "https://localhost:8080/"
        },
        "id": "6t6zcxE2HHJk",
        "outputId": "b0fce3e9-6c91-4887-bfd9-3f4815639c23"
      },
      "execution_count": null,
      "outputs": [
        {
          "output_type": "stream",
          "name": "stdout",
          "text": [
            "4 equals 2 * 2\n",
            "6 equals 2 * 3\n",
            "8 equals 2 * 4\n",
            "9 equals 3 * 3\n"
          ]
        }
      ]
    },
    {
      "cell_type": "code",
      "source": [
        "for num in range(2,10):\n",
        "  if num % 2 == 0:\n",
        "    print(f\"Found an even number {num}\")\n",
        "    continue\n",
        "  print(f\"Found an odd number {num}\")"
      ],
      "metadata": {
        "colab": {
          "base_uri": "https://localhost:8080/"
        },
        "id": "zRsgWQgdIXyK",
        "outputId": "7ac19e50-2d90-4202-c3ab-a0136a8710c5"
      },
      "execution_count": null,
      "outputs": [
        {
          "output_type": "stream",
          "name": "stdout",
          "text": [
            "Found an even number 2\n",
            "Found an odd number 3\n",
            "Found an even number 4\n",
            "Found an odd number 5\n",
            "Found an even number 6\n",
            "Found an odd number 7\n",
            "Found an even number 8\n",
            "Found an odd number 9\n"
          ]
        }
      ]
    },
    {
      "cell_type": "markdown",
      "source": [
        "4.5. `else` Clauses on Loops"
      ],
      "metadata": {
        "id": "r8Svnd2zI6iX"
      }
    },
    {
      "cell_type": "code",
      "source": [
        "for n in range(2, 10):\n",
        "    for x in range(2, n):\n",
        "        if n % x == 0:\n",
        "            print(n, 'equals', x, '*', n//x)\n",
        "            break\n",
        "    else:\n",
        "        # loop fell through without finding a factor\n",
        "        print(n, 'is a prime number')\n"
      ],
      "metadata": {
        "colab": {
          "base_uri": "https://localhost:8080/"
        },
        "id": "ftqPk5GuI2e_",
        "outputId": "d9e2987e-bfdc-4528-ec57-6610d9ccdc13"
      },
      "execution_count": null,
      "outputs": [
        {
          "output_type": "stream",
          "name": "stdout",
          "text": [
            "2 is a prime number\n",
            "3 is a prime number\n",
            "4 equals 2 * 2\n",
            "5 is a prime number\n",
            "6 equals 2 * 3\n",
            "7 is a prime number\n",
            "8 equals 2 * 4\n",
            "9 equals 3 * 3\n"
          ]
        }
      ]
    },
    {
      "cell_type": "code",
      "source": [],
      "metadata": {
        "id": "pujAOO4kJEXu"
      },
      "execution_count": null,
      "outputs": []
    }
  ]
}